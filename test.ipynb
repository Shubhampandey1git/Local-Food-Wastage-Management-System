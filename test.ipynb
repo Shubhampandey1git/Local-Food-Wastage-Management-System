{
 "cells": [
  {
   "cell_type": "markdown",
   "id": "de695e37",
   "metadata": {},
   "source": [
    "## **Project Title: Local Food Wastage Management System**"
   ]
  },
  {
   "cell_type": "markdown",
   "id": "d73b7dc3",
   "metadata": {},
   "source": [
    "**BY Shubham Pandey**"
   ]
  },
  {
   "cell_type": "markdown",
   "id": "84db4ccf",
   "metadata": {},
   "source": [
    "**Git Hub: https://github.com/Shubhampandey1git/Local-Food-Wastage-Management-System.git**"
   ]
  },
  {
   "cell_type": "markdown",
   "id": "339bc55f",
   "metadata": {},
   "source": [
    "#### **Problem statement:**\n",
    "Food wastage is a significant issue, with many households and restaurants discarding surplus food while numerous people struggle with food insecurity. This project aims to develop a Local Food Wastage Management System, where:\n",
    "\n",
    "* Restaurants and individuals can list surplus food.\n",
    "* NGOs or individuals in need can claim the food.\n",
    "* SQL stores available food details and locations.\n",
    "* A Streamlit app enables interaction, filtering, CRUD operation and visualization. \n"
   ]
  },
  {
   "cell_type": "markdown",
   "id": "b3a7edd5",
   "metadata": {},
   "source": [
    "# **Imports**"
   ]
  },
  {
   "cell_type": "code",
   "execution_count": 26,
   "id": "2947dfea",
   "metadata": {},
   "outputs": [],
   "source": [
    "import pandas as pd\n",
    "import sqlite3\n",
    "from sqlalchemy import create_engine\n",
    "import matplotlib.pyplot as plt"
   ]
  },
  {
   "cell_type": "markdown",
   "id": "179aba01",
   "metadata": {},
   "source": [
    "## **Dataset Loading**"
   ]
  },
  {
   "cell_type": "code",
   "execution_count": 2,
   "id": "b13bc9dc",
   "metadata": {},
   "outputs": [],
   "source": [
    "providers = pd.read_csv(\"data/providers_data.csv\")\n",
    "receivers = pd.read_csv(\"data/receivers_data.csv\")\n",
    "food_listings = pd.read_csv(\"data/food_listings_data.csv\", parse_dates=[\"Expiry_Date\"])\n",
    "claims = pd.read_csv(\"data/claims_data.csv\", parse_dates=[\"Timestamp\"])"
   ]
  },
  {
   "cell_type": "code",
   "execution_count": 3,
   "id": "9a77a106",
   "metadata": {},
   "outputs": [
    {
     "name": "stdout",
     "output_type": "stream",
     "text": [
      "   Food_ID Food_Name  Quantity Expiry_Date  Provider_ID     Provider_Type  \\\n",
      "0        1     Bread        43  2025-03-17          110     Grocery Store   \n",
      "1        2      Soup        22  2025-03-24          791     Grocery Store   \n",
      "2        3    Fruits        46  2025-03-28          478  Catering Service   \n",
      "3        4    Fruits        15  2025-03-16          930        Restaurant   \n",
      "4        5      Soup        14  2025-03-19          279        Restaurant   \n",
      "\n",
      "           Location       Food_Type  Meal_Type  \n",
      "0  South Kellyville  Non-Vegetarian  Breakfast  \n",
      "1        West James  Non-Vegetarian     Dinner  \n",
      "2       Lake Regina           Vegan  Breakfast  \n",
      "3         Kellytown           Vegan      Lunch  \n",
      "4        Garciaport           Vegan     Dinner  \n"
     ]
    }
   ],
   "source": [
    "print(food_listings.head())"
   ]
  },
  {
   "cell_type": "markdown",
   "id": "2a4f5383",
   "metadata": {},
   "source": [
    "## **Cleaning data for consistency**"
   ]
  },
  {
   "cell_type": "markdown",
   "id": "a0ac6e0e",
   "metadata": {},
   "source": [
    "- dropping duplicates"
   ]
  },
  {
   "cell_type": "code",
   "execution_count": 11,
   "id": "3614ce83",
   "metadata": {},
   "outputs": [],
   "source": [
    "providers.drop_duplicates(inplace=True)\n",
    "receivers.drop_duplicates(inplace=True)\n",
    "food_listings.drop_duplicates(inplace=True)\n",
    "claims.drop_duplicates(inplace=True)"
   ]
  },
  {
   "cell_type": "markdown",
   "id": "74743589",
   "metadata": {},
   "source": [
    "- removing the white spaces"
   ]
  },
  {
   "cell_type": "code",
   "execution_count": 12,
   "id": "db5ee273",
   "metadata": {},
   "outputs": [],
   "source": [
    "for df in [providers, receivers, food_listings, claims]:\n",
    "    df.columns = df.columns.str.strip()  # clean column names\n",
    "    for col in df.select_dtypes(include=[\"object\"]).columns:\n",
    "        df[col] = df[col].str.strip()"
   ]
  },
  {
   "cell_type": "markdown",
   "id": "4ee64097",
   "metadata": {},
   "source": [
    "- Fixing data types"
   ]
  },
  {
   "cell_type": "code",
   "execution_count": 13,
   "id": "47317d88",
   "metadata": {},
   "outputs": [],
   "source": [
    "food_listings[\"Expiry_Date\"] = pd.to_datetime(food_listings[\"Expiry_Date\"], errors=\"coerce\")\n",
    "claims[\"Timestamp\"] = pd.to_datetime(claims[\"Timestamp\"], errors=\"coerce\")\n",
    "\n",
    "# Ensure numeric IDs & quantities\n",
    "for col in [\"Provider_ID\", \"Receiver_ID\", \"Food_ID\", \"Quantity\", \"Claim_ID\"]:\n",
    "    if col in food_listings.columns:\n",
    "        food_listings[col] = pd.to_numeric(food_listings[col], errors=\"coerce\")\n",
    "    if col in claims.columns:\n",
    "        claims[col] = pd.to_numeric(claims[col], errors=\"coerce\")"
   ]
  },
  {
   "cell_type": "markdown",
   "id": "492fe4ac",
   "metadata": {},
   "source": [
    "- Handling missing values"
   ]
  },
  {
   "cell_type": "code",
   "execution_count": 14,
   "id": "d3647789",
   "metadata": {},
   "outputs": [
    {
     "name": "stderr",
     "output_type": "stream",
     "text": [
      "C:\\Users\\ADMIN\\AppData\\Local\\Temp\\ipykernel_19788\\280406396.py:2: FutureWarning: A value is trying to be set on a copy of a DataFrame or Series through chained assignment using an inplace method.\n",
      "The behavior will change in pandas 3.0. This inplace method will never work because the intermediate object on which we are setting values always behaves as a copy.\n",
      "\n",
      "For example, when doing 'df[col].method(value, inplace=True)', try using 'df.method({col: value}, inplace=True)' or df[col] = df[col].method(value) instead, to perform the operation inplace on the original object.\n",
      "\n",
      "\n",
      "  food_listings[\"Quantity\"].fillna(0, inplace=True)\n"
     ]
    }
   ],
   "source": [
    "# replace missing quantity with 0\n",
    "food_listings[\"Quantity\"].fillna(0, inplace=True)\n",
    "\n",
    "# Drop rows with missing critical IDs\n",
    "food_listings.dropna(subset=[\"Food_ID\", \"Provider_ID\"], inplace=True)\n",
    "claims.dropna(subset=[\"Claim_ID\", \"Food_ID\", \"Receiver_ID\"], inplace=True)"
   ]
  },
  {
   "cell_type": "markdown",
   "id": "39b48ac9",
   "metadata": {},
   "source": [
    "- Saving the clean data"
   ]
  },
  {
   "cell_type": "code",
   "execution_count": 15,
   "id": "5d4ad97a",
   "metadata": {},
   "outputs": [],
   "source": [
    "providers.to_csv(\"data/clean_providers.csv\", index=False)\n",
    "receivers.to_csv(\"data/clean_receivers.csv\", index=False)\n",
    "food_listings.to_csv(\"data/clean_food_listings.csv\", index=False)\n",
    "claims.to_csv(\"data/clean_claims.csv\", index=False)"
   ]
  },
  {
   "cell_type": "markdown",
   "id": "4768e018",
   "metadata": {},
   "source": [
    "## **Database Creation using SQLite**"
   ]
  },
  {
   "cell_type": "code",
   "execution_count": 4,
   "id": "a29a6621",
   "metadata": {},
   "outputs": [
    {
     "name": "stdout",
     "output_type": "stream",
     "text": [
      "Database created and connected\n"
     ]
    }
   ],
   "source": [
    "conn = sqlite3.connect(\"data.db\")\n",
    "cursor = conn.cursor()\n",
    "print(\"Database created and connected\")"
   ]
  },
  {
   "cell_type": "markdown",
   "id": "ef29a71f",
   "metadata": {},
   "source": [
    "**Queries to create tables for database**"
   ]
  },
  {
   "cell_type": "code",
   "execution_count": 5,
   "id": "e3f2077e",
   "metadata": {},
   "outputs": [],
   "source": [
    "create_table_providers = \"CREATE TABLE Providers (Provider_ID INTEGER PRIMARY KEY, Name TEXT, Type TEXT, Address TEXT, City TEXT, Contact TEXT);\"\n",
    "create_table_receivers = \"CREATE TABLE Receivers (Receiver_ID INTEGER PRIMARY KEY, Name TEXT, Type TEXT, City TEXT, Contact TEXT);\"\n",
    "create_table_food_listings = \"CREATE TABLE Food_Listings (Food_ID INTEGER PRIMARY KEY, Food_Name TEXT, Quantity INTEGER, Expiry_Date DATE, Provider_ID INTEGER, Provider_Type TEXT, Location TEXT, Food_Type TEXT, Meal_Type TEXT,FOREIGN KEY (Provider_ID) REFERENCES Providers (Provider_ID));\"\n",
    "create_table_claims = \"CREATE TABLE Claims (Claim_ID INTEGER PRIMARY KEY, Food_ID INTEGER, Receiver_ID INTEGER, Status TEXT, Timestamp DATETIME, FOREIGN KEY (Food_ID) REFERENCES Food_Listings (Food_ID), FOREIGN KEY (Receiver_ID) REFERENCES Receivers (Receiver_ID));\"\n",
    "queries = [create_table_providers, create_table_receivers, create_table_food_listings, create_table_claims]"
   ]
  },
  {
   "cell_type": "markdown",
   "id": "3d8548fe",
   "metadata": {},
   "source": [
    "**Loop to execute queries (only once)**"
   ]
  },
  {
   "cell_type": "code",
   "execution_count": 10,
   "id": "1188f029",
   "metadata": {},
   "outputs": [],
   "source": [
    "# for i in queries:\n",
    "#     cursor.execute(i)\n",
    "#     print(f\"created table {i}\")"
   ]
  },
  {
   "cell_type": "code",
   "execution_count": 7,
   "id": "5a12ab53",
   "metadata": {},
   "outputs": [],
   "source": [
    "conn.commit()"
   ]
  },
  {
   "cell_type": "markdown",
   "id": "33bb9884",
   "metadata": {},
   "source": [
    "**Loading data onto the database**"
   ]
  },
  {
   "cell_type": "markdown",
   "id": "0177d365",
   "metadata": {},
   "source": [
    "- loading the cleaned csv"
   ]
  },
  {
   "cell_type": "code",
   "execution_count": 16,
   "id": "9f0b7a30",
   "metadata": {},
   "outputs": [],
   "source": [
    "providers = pd.read_csv(\"data/clean_providers.csv\")\n",
    "receivers = pd.read_csv(\"data/clean_receivers.csv\")\n",
    "food_listings = pd.read_csv(\"data/clean_food_listings.csv\", parse_dates=[\"Expiry_Date\"])\n",
    "claims = pd.read_csv(\"data/clean_claims.csv\", parse_dates=[\"Timestamp\"])"
   ]
  },
  {
   "cell_type": "code",
   "execution_count": 17,
   "id": "8c936f3b",
   "metadata": {},
   "outputs": [
    {
     "data": {
      "text/plain": [
       "1000"
      ]
     },
     "execution_count": 17,
     "metadata": {},
     "output_type": "execute_result"
    }
   ],
   "source": [
    "engine = create_engine(\"sqlite:///data.db\", echo=False)\n",
    "providers.to_sql(\"Providers\", con=engine, if_exists=\"replace\", index=False)\n",
    "receivers.to_sql(\"Receivers\", con=engine, if_exists=\"replace\", index=False)\n",
    "food_listings.to_sql(\"Food_Listings\", con=engine, if_exists=\"replace\", index=False)\n",
    "claims.to_sql(\"Claims\", con=engine, if_exists=\"replace\", index=False)"
   ]
  },
  {
   "cell_type": "markdown",
   "id": "9bb1479c",
   "metadata": {},
   "source": [
    "Verification that it worked"
   ]
  },
  {
   "cell_type": "code",
   "execution_count": 19,
   "id": "b4efc46e",
   "metadata": {},
   "outputs": [
    {
     "name": "stdout",
     "output_type": "stream",
     "text": [
      "Providers    rows\n",
      "0  1000\n",
      "Receivers    rows\n",
      "0  1000\n",
      "Food_Listings    rows\n",
      "0  1000\n",
      "Claims    rows\n",
      "0  1000\n"
     ]
    }
   ],
   "source": [
    "for table in [\"Providers\", \"Receivers\", \"Food_Listings\", \"Claims\"]:\n",
    "    df = pd.read_sql(f\"SELECT COUNT(*) as rows FROM {table};\", conn)\n",
    "    print(table, df)"
   ]
  },
  {
   "cell_type": "markdown",
   "id": "d5f1bf35",
   "metadata": {},
   "source": [
    "## **15 Queries SQL Queries for trend analysis**"
   ]
  },
  {
   "cell_type": "code",
   "execution_count": 24,
   "id": "01098431",
   "metadata": {},
   "outputs": [],
   "source": [
    "SQL_QUERIES = {\n",
    "    \"Providers_per_City\":\n",
    "        \"\"\"SELECT City, COUNT(*) AS Provider_Count FROM Providers GROUP BY City ORDER BY Provider_Count DESC;\"\"\",\n",
    "    \"Receivers_per_City\":\n",
    "        \"\"\"SELECT City, COUNT(*) AS Receiver_Count FROM Receivers GROUP BY City ORDER BY Receiver_Count DESC;\"\"\",\n",
    "    \"Provider_Type_Contributions\":\n",
    "        \"\"\"SELECT Provider_Type, SUM(Quantity) AS Total_Quantity FROM Food_Listings GROUP BY Provider_Type ORDER BY Total_Quantity DESC;\"\"\",\n",
    "    \"Provider_Contacts_by_City\":\n",
    "        \"\"\"SELECT Name, Contact, Address FROM Providers WHERE City = city;\"\"\",\n",
    "    \"Top_Receivers_by_Claims\":\n",
    "        \"\"\"SELECT r.Name, COUNT(c.Claim_ID) AS Total_Claims FROM Receivers r JOIN Claims c ON r.Receiver_ID = c.Receiver_ID GROUP BY r.Name ORDER BY Total_Claims DESC;\"\"\",\n",
    "    \"Total_Food_Available\":\n",
    "        \"\"\"SELECT SUM(Quantity) AS Total_Food_Available FROM Food_Listings;\"\"\",\n",
    "    \"Top_City_by_Listings\":\n",
    "        \"\"\"SELECT Location, COUNT(*) AS Listings_Count FROM Food_Listings GROUP BY Location ORDER BY Listings_Count DESC LIMIT 1;\"\"\",\n",
    "    \"Most_Common_Food_Types\":\n",
    "        \"\"\"SELECT Food_Type, COUNT(*) AS Count FROM Food_Listings GROUP BY Food_Type ORDER BY Count DESC;\"\"\",\n",
    "    \"Claims_per_Food_Item\":\n",
    "        \"\"\"SELECT f.Food_Name, COUNT(c.Claim_ID) AS Claim_Count FROM Claims c JOIN Food_Listings f ON c.Food_ID = f.Food_ID GROUP BY f.Food_Name ORDER BY Claim_Count DESC;\"\"\",\n",
    "    \"Top_Provider_by_Successful_Claims\":\n",
    "        \"\"\"SELECT p.Name, COUNT(c.Claim_ID) AS Successful_Claims\n",
    "        FROM Claims c\n",
    "        JOIN Food_Listings f ON c.Food_ID = f.Food_ID\n",
    "        JOIN Providers p ON f.Provider_ID = p.Provider_ID\n",
    "        WHERE c.Status = 'Completed'\n",
    "        GROUP BY p.Name\n",
    "        ORDER BY Successful_Claims DESC LIMIT 1;\"\"\",\n",
    "    \"Claim_Status_Distribution\":\n",
    "        \"\"\"SELECT Status, ROUND((COUNT(*) * 100.0 / (SELECT COUNT(*) FROM Claims)), 2) AS Percentage\n",
    "        FROM Claims GROUP BY Status;\"\"\",\n",
    "    \"Avg_Quantity_Claimed_per_Receiver\":\n",
    "        \"\"\"SELECT r.Name, AVG(f.Quantity) AS Avg_Quantity_Claimed\n",
    "        FROM Claims c\n",
    "        JOIN Receivers r ON c.Receiver_ID = r.Receiver_ID\n",
    "        JOIN Food_Listings f ON c.Food_ID = f.Food_ID\n",
    "        GROUP BY r.Name ORDER BY Avg_Quantity_Claimed DESC;\"\"\",\n",
    "    \"Most_Claimed_Meal_Type\":\n",
    "        \"\"\"SELECT f.Meal_Type, COUNT(c.Claim_ID) AS Total_Claims\n",
    "        FROM Claims c JOIN Food_Listings f ON c.Food_ID = f.Food_ID\n",
    "        GROUP BY f.Meal_Type ORDER BY Total_Claims DESC;\"\"\",\n",
    "    \"Total_Donated_per_Provider\":\n",
    "        \"\"\"SELECT p.Name, SUM(f.Quantity) AS Total_Donated\n",
    "        FROM Providers p JOIN Food_Listings f ON p.Provider_ID = f.Provider_ID\n",
    "        GROUP BY p.Name ORDER BY Total_Donated DESC;\"\"\",\n",
    "    \"Cities_with_Highest_Demand\":\n",
    "        \"\"\"SELECT f.Location, COUNT(c.Claim_ID) AS Total_Claims\n",
    "        FROM Claims c JOIN Food_Listings f ON c.Food_ID = f.Food_ID\n",
    "        GROUP BY f.Location ORDER BY Total_Claims DESC;\"\"\"\n",
    "}"
   ]
  },
  {
   "cell_type": "markdown",
   "id": "fe11e37b",
   "metadata": {},
   "source": [
    "- Running the queries"
   ]
  },
  {
   "cell_type": "code",
   "execution_count": 25,
   "id": "dedc0df0",
   "metadata": {},
   "outputs": [
    {
     "name": "stdout",
     "output_type": "stream",
     "text": [
      "\n",
      "Providers_per_City:\n",
      "\n"
     ]
    },
    {
     "data": {
      "text/html": [
       "<div>\n",
       "<style scoped>\n",
       "    .dataframe tbody tr th:only-of-type {\n",
       "        vertical-align: middle;\n",
       "    }\n",
       "\n",
       "    .dataframe tbody tr th {\n",
       "        vertical-align: top;\n",
       "    }\n",
       "\n",
       "    .dataframe thead th {\n",
       "        text-align: right;\n",
       "    }\n",
       "</style>\n",
       "<table border=\"1\" class=\"dataframe\">\n",
       "  <thead>\n",
       "    <tr style=\"text-align: right;\">\n",
       "      <th></th>\n",
       "      <th>City</th>\n",
       "      <th>Provider_Count</th>\n",
       "    </tr>\n",
       "  </thead>\n",
       "  <tbody>\n",
       "    <tr>\n",
       "      <th>0</th>\n",
       "      <td>South Christopherborough</td>\n",
       "      <td>3</td>\n",
       "    </tr>\n",
       "    <tr>\n",
       "      <th>1</th>\n",
       "      <td>New Carol</td>\n",
       "      <td>3</td>\n",
       "    </tr>\n",
       "    <tr>\n",
       "      <th>2</th>\n",
       "      <td>Williamview</td>\n",
       "      <td>2</td>\n",
       "    </tr>\n",
       "    <tr>\n",
       "      <th>3</th>\n",
       "      <td>West Lauraborough</td>\n",
       "      <td>2</td>\n",
       "    </tr>\n",
       "    <tr>\n",
       "      <th>4</th>\n",
       "      <td>West Christopher</td>\n",
       "      <td>2</td>\n",
       "    </tr>\n",
       "  </tbody>\n",
       "</table>\n",
       "</div>"
      ],
      "text/plain": [
       "                       City  Provider_Count\n",
       "0  South Christopherborough               3\n",
       "1                 New Carol               3\n",
       "2               Williamview               2\n",
       "3         West Lauraborough               2\n",
       "4          West Christopher               2"
      ]
     },
     "metadata": {},
     "output_type": "display_data"
    },
    {
     "name": "stdout",
     "output_type": "stream",
     "text": [
      "OUTPUT SAVED\n",
      "\n",
      "\n",
      "Receivers_per_City:\n",
      "\n"
     ]
    },
    {
     "data": {
      "text/html": [
       "<div>\n",
       "<style scoped>\n",
       "    .dataframe tbody tr th:only-of-type {\n",
       "        vertical-align: middle;\n",
       "    }\n",
       "\n",
       "    .dataframe tbody tr th {\n",
       "        vertical-align: top;\n",
       "    }\n",
       "\n",
       "    .dataframe thead th {\n",
       "        text-align: right;\n",
       "    }\n",
       "</style>\n",
       "<table border=\"1\" class=\"dataframe\">\n",
       "  <thead>\n",
       "    <tr style=\"text-align: right;\">\n",
       "      <th></th>\n",
       "      <th>City</th>\n",
       "      <th>Receiver_Count</th>\n",
       "    </tr>\n",
       "  </thead>\n",
       "  <tbody>\n",
       "    <tr>\n",
       "      <th>0</th>\n",
       "      <td>New Christopher</td>\n",
       "      <td>3</td>\n",
       "    </tr>\n",
       "    <tr>\n",
       "      <th>1</th>\n",
       "      <td>Williamsfort</td>\n",
       "      <td>2</td>\n",
       "    </tr>\n",
       "    <tr>\n",
       "      <th>2</th>\n",
       "      <td>West Richard</td>\n",
       "      <td>2</td>\n",
       "    </tr>\n",
       "    <tr>\n",
       "      <th>3</th>\n",
       "      <td>West James</td>\n",
       "      <td>2</td>\n",
       "    </tr>\n",
       "    <tr>\n",
       "      <th>4</th>\n",
       "      <td>Stevenmouth</td>\n",
       "      <td>2</td>\n",
       "    </tr>\n",
       "  </tbody>\n",
       "</table>\n",
       "</div>"
      ],
      "text/plain": [
       "              City  Receiver_Count\n",
       "0  New Christopher               3\n",
       "1     Williamsfort               2\n",
       "2     West Richard               2\n",
       "3       West James               2\n",
       "4      Stevenmouth               2"
      ]
     },
     "metadata": {},
     "output_type": "display_data"
    },
    {
     "name": "stdout",
     "output_type": "stream",
     "text": [
      "OUTPUT SAVED\n",
      "\n",
      "\n",
      "Provider_Type_Contributions:\n",
      "\n"
     ]
    },
    {
     "data": {
      "text/html": [
       "<div>\n",
       "<style scoped>\n",
       "    .dataframe tbody tr th:only-of-type {\n",
       "        vertical-align: middle;\n",
       "    }\n",
       "\n",
       "    .dataframe tbody tr th {\n",
       "        vertical-align: top;\n",
       "    }\n",
       "\n",
       "    .dataframe thead th {\n",
       "        text-align: right;\n",
       "    }\n",
       "</style>\n",
       "<table border=\"1\" class=\"dataframe\">\n",
       "  <thead>\n",
       "    <tr style=\"text-align: right;\">\n",
       "      <th></th>\n",
       "      <th>Provider_Type</th>\n",
       "      <th>Total_Quantity</th>\n",
       "    </tr>\n",
       "  </thead>\n",
       "  <tbody>\n",
       "    <tr>\n",
       "      <th>0</th>\n",
       "      <td>Restaurant</td>\n",
       "      <td>6923</td>\n",
       "    </tr>\n",
       "    <tr>\n",
       "      <th>1</th>\n",
       "      <td>Supermarket</td>\n",
       "      <td>6696</td>\n",
       "    </tr>\n",
       "    <tr>\n",
       "      <th>2</th>\n",
       "      <td>Catering Service</td>\n",
       "      <td>6116</td>\n",
       "    </tr>\n",
       "    <tr>\n",
       "      <th>3</th>\n",
       "      <td>Grocery Store</td>\n",
       "      <td>6059</td>\n",
       "    </tr>\n",
       "  </tbody>\n",
       "</table>\n",
       "</div>"
      ],
      "text/plain": [
       "      Provider_Type  Total_Quantity\n",
       "0        Restaurant            6923\n",
       "1       Supermarket            6696\n",
       "2  Catering Service            6116\n",
       "3     Grocery Store            6059"
      ]
     },
     "metadata": {},
     "output_type": "display_data"
    },
    {
     "name": "stdout",
     "output_type": "stream",
     "text": [
      "OUTPUT SAVED\n",
      "\n",
      "\n",
      "Provider_Contacts_by_City:\n",
      "\n"
     ]
    },
    {
     "data": {
      "text/html": [
       "<div>\n",
       "<style scoped>\n",
       "    .dataframe tbody tr th:only-of-type {\n",
       "        vertical-align: middle;\n",
       "    }\n",
       "\n",
       "    .dataframe tbody tr th {\n",
       "        vertical-align: top;\n",
       "    }\n",
       "\n",
       "    .dataframe thead th {\n",
       "        text-align: right;\n",
       "    }\n",
       "</style>\n",
       "<table border=\"1\" class=\"dataframe\">\n",
       "  <thead>\n",
       "    <tr style=\"text-align: right;\">\n",
       "      <th></th>\n",
       "      <th>Name</th>\n",
       "      <th>Contact</th>\n",
       "      <th>Address</th>\n",
       "    </tr>\n",
       "  </thead>\n",
       "  <tbody>\n",
       "    <tr>\n",
       "      <th>0</th>\n",
       "      <td>Gonzales-Cochran</td>\n",
       "      <td>+1-600-220-0480</td>\n",
       "      <td>74347 Christopher Extensions\\nAndreamouth, OK ...</td>\n",
       "    </tr>\n",
       "    <tr>\n",
       "      <th>1</th>\n",
       "      <td>Nielsen, Johnson and Fuller</td>\n",
       "      <td>+1-925-283-8901x6297</td>\n",
       "      <td>91228 Hanson Stream\\nWelchtown, OR 27136</td>\n",
       "    </tr>\n",
       "    <tr>\n",
       "      <th>2</th>\n",
       "      <td>Miller-Black</td>\n",
       "      <td>001-517-295-2206</td>\n",
       "      <td>561 Martinez Point Suite 507\\nGuzmanchester, W...</td>\n",
       "    </tr>\n",
       "    <tr>\n",
       "      <th>3</th>\n",
       "      <td>Clark, Prince and Williams</td>\n",
       "      <td>556.944.8935x401</td>\n",
       "      <td>467 Bell Trail Suite 409\\nPort Jesus, IA 61188</td>\n",
       "    </tr>\n",
       "    <tr>\n",
       "      <th>4</th>\n",
       "      <td>Coleman-Farley</td>\n",
       "      <td>193.714.6577</td>\n",
       "      <td>078 Matthew Creek Apt. 319\\nSaraborough, MA 53978</td>\n",
       "    </tr>\n",
       "  </tbody>\n",
       "</table>\n",
       "</div>"
      ],
      "text/plain": [
       "                          Name               Contact  \\\n",
       "0             Gonzales-Cochran       +1-600-220-0480   \n",
       "1  Nielsen, Johnson and Fuller  +1-925-283-8901x6297   \n",
       "2                 Miller-Black      001-517-295-2206   \n",
       "3   Clark, Prince and Williams      556.944.8935x401   \n",
       "4               Coleman-Farley          193.714.6577   \n",
       "\n",
       "                                             Address  \n",
       "0  74347 Christopher Extensions\\nAndreamouth, OK ...  \n",
       "1           91228 Hanson Stream\\nWelchtown, OR 27136  \n",
       "2  561 Martinez Point Suite 507\\nGuzmanchester, W...  \n",
       "3     467 Bell Trail Suite 409\\nPort Jesus, IA 61188  \n",
       "4  078 Matthew Creek Apt. 319\\nSaraborough, MA 53978  "
      ]
     },
     "metadata": {},
     "output_type": "display_data"
    },
    {
     "name": "stdout",
     "output_type": "stream",
     "text": [
      "OUTPUT SAVED\n",
      "\n",
      "\n",
      "Top_Receivers_by_Claims:\n",
      "\n"
     ]
    },
    {
     "data": {
      "text/html": [
       "<div>\n",
       "<style scoped>\n",
       "    .dataframe tbody tr th:only-of-type {\n",
       "        vertical-align: middle;\n",
       "    }\n",
       "\n",
       "    .dataframe tbody tr th {\n",
       "        vertical-align: top;\n",
       "    }\n",
       "\n",
       "    .dataframe thead th {\n",
       "        text-align: right;\n",
       "    }\n",
       "</style>\n",
       "<table border=\"1\" class=\"dataframe\">\n",
       "  <thead>\n",
       "    <tr style=\"text-align: right;\">\n",
       "      <th></th>\n",
       "      <th>Name</th>\n",
       "      <th>Total_Claims</th>\n",
       "    </tr>\n",
       "  </thead>\n",
       "  <tbody>\n",
       "    <tr>\n",
       "      <th>0</th>\n",
       "      <td>William Frederick</td>\n",
       "      <td>5</td>\n",
       "    </tr>\n",
       "    <tr>\n",
       "      <th>1</th>\n",
       "      <td>Scott Hunter</td>\n",
       "      <td>5</td>\n",
       "    </tr>\n",
       "    <tr>\n",
       "      <th>2</th>\n",
       "      <td>Matthew Webb</td>\n",
       "      <td>5</td>\n",
       "    </tr>\n",
       "    <tr>\n",
       "      <th>3</th>\n",
       "      <td>Anthony Garcia</td>\n",
       "      <td>5</td>\n",
       "    </tr>\n",
       "    <tr>\n",
       "      <th>4</th>\n",
       "      <td>Kristine Martin</td>\n",
       "      <td>4</td>\n",
       "    </tr>\n",
       "  </tbody>\n",
       "</table>\n",
       "</div>"
      ],
      "text/plain": [
       "                Name  Total_Claims\n",
       "0  William Frederick             5\n",
       "1       Scott Hunter             5\n",
       "2       Matthew Webb             5\n",
       "3     Anthony Garcia             5\n",
       "4    Kristine Martin             4"
      ]
     },
     "metadata": {},
     "output_type": "display_data"
    },
    {
     "name": "stdout",
     "output_type": "stream",
     "text": [
      "OUTPUT SAVED\n",
      "\n",
      "\n",
      "Total_Food_Available:\n",
      "\n"
     ]
    },
    {
     "data": {
      "text/html": [
       "<div>\n",
       "<style scoped>\n",
       "    .dataframe tbody tr th:only-of-type {\n",
       "        vertical-align: middle;\n",
       "    }\n",
       "\n",
       "    .dataframe tbody tr th {\n",
       "        vertical-align: top;\n",
       "    }\n",
       "\n",
       "    .dataframe thead th {\n",
       "        text-align: right;\n",
       "    }\n",
       "</style>\n",
       "<table border=\"1\" class=\"dataframe\">\n",
       "  <thead>\n",
       "    <tr style=\"text-align: right;\">\n",
       "      <th></th>\n",
       "      <th>Total_Food_Available</th>\n",
       "    </tr>\n",
       "  </thead>\n",
       "  <tbody>\n",
       "    <tr>\n",
       "      <th>0</th>\n",
       "      <td>25794</td>\n",
       "    </tr>\n",
       "  </tbody>\n",
       "</table>\n",
       "</div>"
      ],
      "text/plain": [
       "   Total_Food_Available\n",
       "0                 25794"
      ]
     },
     "metadata": {},
     "output_type": "display_data"
    },
    {
     "name": "stdout",
     "output_type": "stream",
     "text": [
      "OUTPUT SAVED\n",
      "\n",
      "\n",
      "Top_City_by_Listings:\n",
      "\n"
     ]
    },
    {
     "data": {
      "text/html": [
       "<div>\n",
       "<style scoped>\n",
       "    .dataframe tbody tr th:only-of-type {\n",
       "        vertical-align: middle;\n",
       "    }\n",
       "\n",
       "    .dataframe tbody tr th {\n",
       "        vertical-align: top;\n",
       "    }\n",
       "\n",
       "    .dataframe thead th {\n",
       "        text-align: right;\n",
       "    }\n",
       "</style>\n",
       "<table border=\"1\" class=\"dataframe\">\n",
       "  <thead>\n",
       "    <tr style=\"text-align: right;\">\n",
       "      <th></th>\n",
       "      <th>Location</th>\n",
       "      <th>Listings_Count</th>\n",
       "    </tr>\n",
       "  </thead>\n",
       "  <tbody>\n",
       "    <tr>\n",
       "      <th>0</th>\n",
       "      <td>South Kathryn</td>\n",
       "      <td>6</td>\n",
       "    </tr>\n",
       "  </tbody>\n",
       "</table>\n",
       "</div>"
      ],
      "text/plain": [
       "        Location  Listings_Count\n",
       "0  South Kathryn               6"
      ]
     },
     "metadata": {},
     "output_type": "display_data"
    },
    {
     "name": "stdout",
     "output_type": "stream",
     "text": [
      "OUTPUT SAVED\n",
      "\n",
      "\n",
      "Most_Common_Food_Types:\n",
      "\n"
     ]
    },
    {
     "data": {
      "text/html": [
       "<div>\n",
       "<style scoped>\n",
       "    .dataframe tbody tr th:only-of-type {\n",
       "        vertical-align: middle;\n",
       "    }\n",
       "\n",
       "    .dataframe tbody tr th {\n",
       "        vertical-align: top;\n",
       "    }\n",
       "\n",
       "    .dataframe thead th {\n",
       "        text-align: right;\n",
       "    }\n",
       "</style>\n",
       "<table border=\"1\" class=\"dataframe\">\n",
       "  <thead>\n",
       "    <tr style=\"text-align: right;\">\n",
       "      <th></th>\n",
       "      <th>Food_Type</th>\n",
       "      <th>Count</th>\n",
       "    </tr>\n",
       "  </thead>\n",
       "  <tbody>\n",
       "    <tr>\n",
       "      <th>0</th>\n",
       "      <td>Vegetarian</td>\n",
       "      <td>336</td>\n",
       "    </tr>\n",
       "    <tr>\n",
       "      <th>1</th>\n",
       "      <td>Vegan</td>\n",
       "      <td>334</td>\n",
       "    </tr>\n",
       "    <tr>\n",
       "      <th>2</th>\n",
       "      <td>Non-Vegetarian</td>\n",
       "      <td>330</td>\n",
       "    </tr>\n",
       "  </tbody>\n",
       "</table>\n",
       "</div>"
      ],
      "text/plain": [
       "        Food_Type  Count\n",
       "0      Vegetarian    336\n",
       "1           Vegan    334\n",
       "2  Non-Vegetarian    330"
      ]
     },
     "metadata": {},
     "output_type": "display_data"
    },
    {
     "name": "stdout",
     "output_type": "stream",
     "text": [
      "OUTPUT SAVED\n",
      "\n",
      "\n",
      "Claims_per_Food_Item:\n",
      "\n"
     ]
    },
    {
     "data": {
      "text/html": [
       "<div>\n",
       "<style scoped>\n",
       "    .dataframe tbody tr th:only-of-type {\n",
       "        vertical-align: middle;\n",
       "    }\n",
       "\n",
       "    .dataframe tbody tr th {\n",
       "        vertical-align: top;\n",
       "    }\n",
       "\n",
       "    .dataframe thead th {\n",
       "        text-align: right;\n",
       "    }\n",
       "</style>\n",
       "<table border=\"1\" class=\"dataframe\">\n",
       "  <thead>\n",
       "    <tr style=\"text-align: right;\">\n",
       "      <th></th>\n",
       "      <th>Food_Name</th>\n",
       "      <th>Claim_Count</th>\n",
       "    </tr>\n",
       "  </thead>\n",
       "  <tbody>\n",
       "    <tr>\n",
       "      <th>0</th>\n",
       "      <td>Rice</td>\n",
       "      <td>122</td>\n",
       "    </tr>\n",
       "    <tr>\n",
       "      <th>1</th>\n",
       "      <td>Soup</td>\n",
       "      <td>114</td>\n",
       "    </tr>\n",
       "    <tr>\n",
       "      <th>2</th>\n",
       "      <td>Dairy</td>\n",
       "      <td>110</td>\n",
       "    </tr>\n",
       "    <tr>\n",
       "      <th>3</th>\n",
       "      <td>Fish</td>\n",
       "      <td>108</td>\n",
       "    </tr>\n",
       "    <tr>\n",
       "      <th>4</th>\n",
       "      <td>Salad</td>\n",
       "      <td>106</td>\n",
       "    </tr>\n",
       "  </tbody>\n",
       "</table>\n",
       "</div>"
      ],
      "text/plain": [
       "  Food_Name  Claim_Count\n",
       "0      Rice          122\n",
       "1      Soup          114\n",
       "2     Dairy          110\n",
       "3      Fish          108\n",
       "4     Salad          106"
      ]
     },
     "metadata": {},
     "output_type": "display_data"
    },
    {
     "name": "stdout",
     "output_type": "stream",
     "text": [
      "OUTPUT SAVED\n",
      "\n",
      "\n",
      "Top_Provider_by_Successful_Claims:\n",
      "\n"
     ]
    },
    {
     "data": {
      "text/html": [
       "<div>\n",
       "<style scoped>\n",
       "    .dataframe tbody tr th:only-of-type {\n",
       "        vertical-align: middle;\n",
       "    }\n",
       "\n",
       "    .dataframe tbody tr th {\n",
       "        vertical-align: top;\n",
       "    }\n",
       "\n",
       "    .dataframe thead th {\n",
       "        text-align: right;\n",
       "    }\n",
       "</style>\n",
       "<table border=\"1\" class=\"dataframe\">\n",
       "  <thead>\n",
       "    <tr style=\"text-align: right;\">\n",
       "      <th></th>\n",
       "      <th>Name</th>\n",
       "      <th>Successful_Claims</th>\n",
       "    </tr>\n",
       "  </thead>\n",
       "  <tbody>\n",
       "    <tr>\n",
       "      <th>0</th>\n",
       "      <td>Barry Group</td>\n",
       "      <td>5</td>\n",
       "    </tr>\n",
       "  </tbody>\n",
       "</table>\n",
       "</div>"
      ],
      "text/plain": [
       "          Name  Successful_Claims\n",
       "0  Barry Group                  5"
      ]
     },
     "metadata": {},
     "output_type": "display_data"
    },
    {
     "name": "stdout",
     "output_type": "stream",
     "text": [
      "OUTPUT SAVED\n",
      "\n",
      "\n",
      "Claim_Status_Distribution:\n",
      "\n"
     ]
    },
    {
     "data": {
      "text/html": [
       "<div>\n",
       "<style scoped>\n",
       "    .dataframe tbody tr th:only-of-type {\n",
       "        vertical-align: middle;\n",
       "    }\n",
       "\n",
       "    .dataframe tbody tr th {\n",
       "        vertical-align: top;\n",
       "    }\n",
       "\n",
       "    .dataframe thead th {\n",
       "        text-align: right;\n",
       "    }\n",
       "</style>\n",
       "<table border=\"1\" class=\"dataframe\">\n",
       "  <thead>\n",
       "    <tr style=\"text-align: right;\">\n",
       "      <th></th>\n",
       "      <th>Status</th>\n",
       "      <th>Percentage</th>\n",
       "    </tr>\n",
       "  </thead>\n",
       "  <tbody>\n",
       "    <tr>\n",
       "      <th>0</th>\n",
       "      <td>Cancelled</td>\n",
       "      <td>33.6</td>\n",
       "    </tr>\n",
       "    <tr>\n",
       "      <th>1</th>\n",
       "      <td>Completed</td>\n",
       "      <td>33.9</td>\n",
       "    </tr>\n",
       "    <tr>\n",
       "      <th>2</th>\n",
       "      <td>Pending</td>\n",
       "      <td>32.5</td>\n",
       "    </tr>\n",
       "  </tbody>\n",
       "</table>\n",
       "</div>"
      ],
      "text/plain": [
       "      Status  Percentage\n",
       "0  Cancelled        33.6\n",
       "1  Completed        33.9\n",
       "2    Pending        32.5"
      ]
     },
     "metadata": {},
     "output_type": "display_data"
    },
    {
     "name": "stdout",
     "output_type": "stream",
     "text": [
      "OUTPUT SAVED\n",
      "\n",
      "\n",
      "Avg_Quantity_Claimed_per_Receiver:\n",
      "\n"
     ]
    },
    {
     "data": {
      "text/html": [
       "<div>\n",
       "<style scoped>\n",
       "    .dataframe tbody tr th:only-of-type {\n",
       "        vertical-align: middle;\n",
       "    }\n",
       "\n",
       "    .dataframe tbody tr th {\n",
       "        vertical-align: top;\n",
       "    }\n",
       "\n",
       "    .dataframe thead th {\n",
       "        text-align: right;\n",
       "    }\n",
       "</style>\n",
       "<table border=\"1\" class=\"dataframe\">\n",
       "  <thead>\n",
       "    <tr style=\"text-align: right;\">\n",
       "      <th></th>\n",
       "      <th>Name</th>\n",
       "      <th>Avg_Quantity_Claimed</th>\n",
       "    </tr>\n",
       "  </thead>\n",
       "  <tbody>\n",
       "    <tr>\n",
       "      <th>0</th>\n",
       "      <td>Thomas Villanueva</td>\n",
       "      <td>50.0</td>\n",
       "    </tr>\n",
       "    <tr>\n",
       "      <th>1</th>\n",
       "      <td>Peggy Knight</td>\n",
       "      <td>50.0</td>\n",
       "    </tr>\n",
       "    <tr>\n",
       "      <th>2</th>\n",
       "      <td>Nancy Silva</td>\n",
       "      <td>50.0</td>\n",
       "    </tr>\n",
       "    <tr>\n",
       "      <th>3</th>\n",
       "      <td>Nancy Jones</td>\n",
       "      <td>50.0</td>\n",
       "    </tr>\n",
       "    <tr>\n",
       "      <th>4</th>\n",
       "      <td>Lisa Pitts</td>\n",
       "      <td>50.0</td>\n",
       "    </tr>\n",
       "  </tbody>\n",
       "</table>\n",
       "</div>"
      ],
      "text/plain": [
       "                Name  Avg_Quantity_Claimed\n",
       "0  Thomas Villanueva                  50.0\n",
       "1       Peggy Knight                  50.0\n",
       "2        Nancy Silva                  50.0\n",
       "3        Nancy Jones                  50.0\n",
       "4         Lisa Pitts                  50.0"
      ]
     },
     "metadata": {},
     "output_type": "display_data"
    },
    {
     "name": "stdout",
     "output_type": "stream",
     "text": [
      "OUTPUT SAVED\n",
      "\n",
      "\n",
      "Most_Claimed_Meal_Type:\n",
      "\n"
     ]
    },
    {
     "data": {
      "text/html": [
       "<div>\n",
       "<style scoped>\n",
       "    .dataframe tbody tr th:only-of-type {\n",
       "        vertical-align: middle;\n",
       "    }\n",
       "\n",
       "    .dataframe tbody tr th {\n",
       "        vertical-align: top;\n",
       "    }\n",
       "\n",
       "    .dataframe thead th {\n",
       "        text-align: right;\n",
       "    }\n",
       "</style>\n",
       "<table border=\"1\" class=\"dataframe\">\n",
       "  <thead>\n",
       "    <tr style=\"text-align: right;\">\n",
       "      <th></th>\n",
       "      <th>Meal_Type</th>\n",
       "      <th>Total_Claims</th>\n",
       "    </tr>\n",
       "  </thead>\n",
       "  <tbody>\n",
       "    <tr>\n",
       "      <th>0</th>\n",
       "      <td>Breakfast</td>\n",
       "      <td>278</td>\n",
       "    </tr>\n",
       "    <tr>\n",
       "      <th>1</th>\n",
       "      <td>Lunch</td>\n",
       "      <td>250</td>\n",
       "    </tr>\n",
       "    <tr>\n",
       "      <th>2</th>\n",
       "      <td>Snacks</td>\n",
       "      <td>240</td>\n",
       "    </tr>\n",
       "    <tr>\n",
       "      <th>3</th>\n",
       "      <td>Dinner</td>\n",
       "      <td>232</td>\n",
       "    </tr>\n",
       "  </tbody>\n",
       "</table>\n",
       "</div>"
      ],
      "text/plain": [
       "   Meal_Type  Total_Claims\n",
       "0  Breakfast           278\n",
       "1      Lunch           250\n",
       "2     Snacks           240\n",
       "3     Dinner           232"
      ]
     },
     "metadata": {},
     "output_type": "display_data"
    },
    {
     "name": "stdout",
     "output_type": "stream",
     "text": [
      "OUTPUT SAVED\n",
      "\n",
      "\n",
      "Total_Donated_per_Provider:\n",
      "\n"
     ]
    },
    {
     "data": {
      "text/html": [
       "<div>\n",
       "<style scoped>\n",
       "    .dataframe tbody tr th:only-of-type {\n",
       "        vertical-align: middle;\n",
       "    }\n",
       "\n",
       "    .dataframe tbody tr th {\n",
       "        vertical-align: top;\n",
       "    }\n",
       "\n",
       "    .dataframe thead th {\n",
       "        text-align: right;\n",
       "    }\n",
       "</style>\n",
       "<table border=\"1\" class=\"dataframe\">\n",
       "  <thead>\n",
       "    <tr style=\"text-align: right;\">\n",
       "      <th></th>\n",
       "      <th>Name</th>\n",
       "      <th>Total_Donated</th>\n",
       "    </tr>\n",
       "  </thead>\n",
       "  <tbody>\n",
       "    <tr>\n",
       "      <th>0</th>\n",
       "      <td>Miller Inc</td>\n",
       "      <td>217</td>\n",
       "    </tr>\n",
       "    <tr>\n",
       "      <th>1</th>\n",
       "      <td>Barry Group</td>\n",
       "      <td>179</td>\n",
       "    </tr>\n",
       "    <tr>\n",
       "      <th>2</th>\n",
       "      <td>Evans, Wright and Mitchell</td>\n",
       "      <td>158</td>\n",
       "    </tr>\n",
       "    <tr>\n",
       "      <th>3</th>\n",
       "      <td>Smith Group</td>\n",
       "      <td>150</td>\n",
       "    </tr>\n",
       "    <tr>\n",
       "      <th>4</th>\n",
       "      <td>Campbell LLC</td>\n",
       "      <td>145</td>\n",
       "    </tr>\n",
       "  </tbody>\n",
       "</table>\n",
       "</div>"
      ],
      "text/plain": [
       "                         Name  Total_Donated\n",
       "0                  Miller Inc            217\n",
       "1                 Barry Group            179\n",
       "2  Evans, Wright and Mitchell            158\n",
       "3                 Smith Group            150\n",
       "4                Campbell LLC            145"
      ]
     },
     "metadata": {},
     "output_type": "display_data"
    },
    {
     "name": "stdout",
     "output_type": "stream",
     "text": [
      "OUTPUT SAVED\n",
      "\n",
      "\n",
      "Cities_with_Highest_Demand:\n",
      "\n"
     ]
    },
    {
     "data": {
      "text/html": [
       "<div>\n",
       "<style scoped>\n",
       "    .dataframe tbody tr th:only-of-type {\n",
       "        vertical-align: middle;\n",
       "    }\n",
       "\n",
       "    .dataframe tbody tr th {\n",
       "        vertical-align: top;\n",
       "    }\n",
       "\n",
       "    .dataframe thead th {\n",
       "        text-align: right;\n",
       "    }\n",
       "</style>\n",
       "<table border=\"1\" class=\"dataframe\">\n",
       "  <thead>\n",
       "    <tr style=\"text-align: right;\">\n",
       "      <th></th>\n",
       "      <th>Location</th>\n",
       "      <th>Total_Claims</th>\n",
       "    </tr>\n",
       "  </thead>\n",
       "  <tbody>\n",
       "    <tr>\n",
       "      <th>0</th>\n",
       "      <td>East Heatherport</td>\n",
       "      <td>12</td>\n",
       "    </tr>\n",
       "    <tr>\n",
       "      <th>1</th>\n",
       "      <td>Lake Andrewmouth</td>\n",
       "      <td>9</td>\n",
       "    </tr>\n",
       "    <tr>\n",
       "      <th>2</th>\n",
       "      <td>Jamesfurt</td>\n",
       "      <td>9</td>\n",
       "    </tr>\n",
       "    <tr>\n",
       "      <th>3</th>\n",
       "      <td>South Kathryn</td>\n",
       "      <td>7</td>\n",
       "    </tr>\n",
       "    <tr>\n",
       "      <th>4</th>\n",
       "      <td>New Carol</td>\n",
       "      <td>7</td>\n",
       "    </tr>\n",
       "  </tbody>\n",
       "</table>\n",
       "</div>"
      ],
      "text/plain": [
       "           Location  Total_Claims\n",
       "0  East Heatherport            12\n",
       "1  Lake Andrewmouth             9\n",
       "2         Jamesfurt             9\n",
       "3     South Kathryn             7\n",
       "4         New Carol             7"
      ]
     },
     "metadata": {},
     "output_type": "display_data"
    },
    {
     "name": "stdout",
     "output_type": "stream",
     "text": [
      "OUTPUT SAVED\n",
      "\n"
     ]
    }
   ],
   "source": [
    "# looping through all the queries\n",
    "for q in SQL_QUERIES:\n",
    "    df = pd.read_sql(SQL_QUERIES[q], conn)\n",
    "    print(f\"\\n{q}:\\n\")\n",
    "    display(df.head())\n",
    "    df.to_csv(f\"results/{q}.csv\", index=False)  # saving the output\n",
    "    print(\"OUTPUT SAVED\\n\")"
   ]
  },
  {
   "cell_type": "markdown",
   "id": "6a8b2223",
   "metadata": {},
   "source": [
    "**Key Insights from Outputs:**\n",
    "1. Providers per City\n",
    "\n",
    "Top Cities: South Christopherborough and New Carol both have 3 providers each.\n",
    "\n",
    "Insight: Provider presence is spread thinly — no city dominates. This might mean food sourcing is decentralized.\n",
    "\n",
    "2. Receivers per City\n",
    "\n",
    "Top Cities: New Christopher has 3 receivers; other cities only 2.\n",
    "\n",
    "Insight: Receivers (NGOs/individuals) are also evenly distributed, no one city shows much higher demand.\n",
    "\n",
    "3. Provider Type Contributions\n",
    "\n",
    "Restaurants donated the most (6,923 units), followed by Supermarkets (6,696), Catering Services (6,116), and Grocery Stores (6,059).\n",
    "\n",
    "Insight: Restaurants are the main source of surplus food, but supermarkets are very close. The system should focus on partnerships with restaurants and supermarkets.\n",
    "\n",
    "4. Provider Contacts by City\n",
    "\n",
    "Shows actual provider contact info.\n",
    "\n",
    "Insight: This data is critical for operational coordination — the app should surface this clearly.\n",
    "\n",
    "5. Top Receivers by Claims\n",
    "\n",
    "Several receivers (William Frederick, Scott Hunter, Matthew Webb, Anthony Garcia) have 5 claims each.\n",
    "\n",
    "Insight: There are a few very active receivers who benefit repeatedly, suggesting strong dependence.\n",
    "\n",
    "6. Total Food Available\n",
    "\n",
    "25,794 units of food are currently in the system.\n",
    "\n",
    "Insight: The platform has a substantial food pool available to redistribute — now it’s about efficient claims.\n",
    "\n",
    "7. Top City by Listings\n",
    "\n",
    "South Kathryn has the highest listings (6).\n",
    "\n",
    "Insight: This city has the most diverse food availability — a hotspot for redistribution.\n",
    "\n",
    "8. Most Common Food Types\n",
    "\n",
    "Very balanced: Vegetarian (336), Vegan (334), Non-Vegetarian (330).\n",
    "\n",
    "Insight: Food diversity is well-balanced, so the system caters to all dietary preferences.\n",
    "\n",
    "9. Claims per Food Item\n",
    "\n",
    "Rice (122 claims), Soup (114), Dairy (110), Fish (108), Salad (106).\n",
    "\n",
    "Insight: Staples like Rice and Soup are most in demand → app could prioritize showing these items prominently.\n",
    "\n",
    "10. Top Provider by Successful Claims\n",
    "\n",
    "Barry Group has 5 successful claims.\n",
    "\n",
    "Insight: Certain providers are more effective at distributing food → maybe due to location or reliability.\n",
    "\n",
    "11. Claim Status Distribution\n",
    "\n",
    "Completed (33.9%), Cancelled (33.6%), Pending (32.5%).\n",
    "\n",
    "Insight: A high cancellation/pending rate shows inefficiency — only 1/3rd of claims are successful. This is a key improvement area.\n",
    "\n",
    "12. Avg Quantity Claimed per Receiver\n",
    "\n",
    "Some receivers (e.g., Thomas Villanueva, Peggy Knight, Nancy Silva) average 50 units per claim.\n",
    "\n",
    "Insight: Certain receivers take large bulk quantities → possible risk of over-claiming, needs monitoring.\n",
    "\n",
    "13. Most Claimed Meal Type\n",
    "\n",
    "Breakfast (278) is most claimed, followed by Lunch (250).\n",
    "\n",
    "Insight: Breakfast demand is highest — app could prioritize donations that can serve as breakfast items.\n",
    "\n",
    "14. Total Donated per Provider\n",
    "\n",
    "Miller Inc (217 units), Barry Group (179) are top donors.\n",
    "\n",
    "Insight: A few providers contribute disproportionately → important to maintain strong relationships with them.\n",
    "\n",
    "15. Cities with Highest Demand\n",
    "\n",
    "East Heatherport (12 claims), Lake Andrewmouth (9), Jamesfurt (9).\n",
    "\n",
    "Insight: Demand is not equal across cities. Some are food-demand hotspots that need priority."
   ]
  },
  {
   "cell_type": "markdown",
   "id": "c2e49f35",
   "metadata": {},
   "source": [
    "## **Visualization**"
   ]
  },
  {
   "cell_type": "markdown",
   "id": "95f15a34",
   "metadata": {},
   "source": [
    "**- Food expiry horizon**"
   ]
  },
  {
   "cell_type": "code",
   "execution_count": 27,
   "id": "31e99abd",
   "metadata": {},
   "outputs": [
    {
     "data": {
      "image/png": "[encoded data removed]",
      "text/plain": [
       "<Figure size 640x480 with 1 Axes>"
      ]
     },
     "metadata": {},
     "output_type": "display_data"
    }
   ],
   "source": [
    "food_listings[\"days_to_expiry\"] = (food_listings[\"Expiry_Date\"] - pd.Timestamp.today()).dt.days\n",
    "food_listings[\"days_to_expiry\"].hist(bins=20)\n",
    "plt.title(\"Distribution of Days to Expiry\")\n",
    "plt.xlabel(\"Days\")\n",
    "plt.ylabel(\"Count\")\n",
    "plt.show()"
   ]
  },
  {
   "cell_type": "markdown",
   "id": "ad6d52d9",
   "metadata": {},
   "source": [
    "1. All expiry values are negative (e.g. -158 days).\n",
    "\n",
    "2. That means the dataset’s Expiry_Date values are in the past relative to today (when you calculated).\n",
    "\n",
    "3. Insight: Food records may be simulated or outdated, so expiry analysis shows that most food has already expired."
   ]
  },
  {
   "cell_type": "markdown",
   "id": "0603903e",
   "metadata": {},
   "source": [
    "**- Claims over time**"
   ]
  },
  {
   "cell_type": "code",
   "execution_count": 28,
   "id": "b32105a7",
   "metadata": {},
   "outputs": [
    {
     "data": {
      "text/plain": [
       "<Axes: title={'center': 'Claims per Day'}, xlabel='Claim_Date'>"
      ]
     },
     "execution_count": 28,
     "metadata": {},
     "output_type": "execute_result"
    },
    {
     "data": {
      "image/png": "[encoded data removed]",
      "text/plain": [
       "<Figure size 1000x400 with 1 Axes>"
      ]
     },
     "metadata": {},
     "output_type": "display_data"
    }
   ],
   "source": [
    "claims[\"Claim_Date\"] = claims[\"Timestamp\"].dt.date\n",
    "claims.groupby(\"Claim_Date\").size().plot(kind=\"line\", figsize=(10,4), title=\"Claims per Day\")"
   ]
  },
  {
   "cell_type": "markdown",
   "id": "0a29b992",
   "metadata": {},
   "source": [
    "1. Claims trend fluctuates between 40 and 60 per day across March 2025.\n",
    "\n",
    "2. Around March 13 there’s a peak (~62 claims).\n",
    "\n",
    "3. Insight: There’s a steady baseline of claims but occasional spikes → could be tied to events (e.g., festivals, weekends)."
   ]
  },
  {
   "cell_type": "markdown",
   "id": "a8e9242e",
   "metadata": {},
   "source": [
    "**- Most donated vs most claimed meal type**"
   ]
  },
  {
   "cell_type": "code",
   "execution_count": 29,
   "id": "783bec1f",
   "metadata": {},
   "outputs": [
    {
     "data": {
      "text/plain": [
       "<Axes: title={'center': 'Meal Types Claimed'}, xlabel='Meal_Type'>"
      ]
     },
     "execution_count": 29,
     "metadata": {},
     "output_type": "execute_result"
    },
    {
     "data": {
      "image/png": "[encoded data removed]",
      "text/plain": [
       "<Figure size 640x480 with 1 Axes>"
      ]
     },
     "metadata": {},
     "output_type": "display_data"
    }
   ],
   "source": [
    "food_listings[\"Meal_Type\"].value_counts().plot(kind=\"bar\", title=\"Meal Types Donated\")\n",
    "claims.merge(food_listings, on=\"Food_ID\")[\"Meal_Type\"].value_counts().plot(kind=\"bar\", title=\"Meal Types Claimed\")"
   ]
  },
  {
   "cell_type": "markdown",
   "id": "948dbb56",
   "metadata": {},
   "source": [
    "1. Breakfast (278 claims) is highest, followed by Lunch (250), Snacks (240), and Dinner (232).\n",
    "\n",
    "2. Insight: Breakfast is the most in-demand meal. This matches your earlier SQL analysis."
   ]
  },
  {
   "cell_type": "markdown",
   "id": "284d26f6",
   "metadata": {},
   "source": [
    "## **Conclusion**"
   ]
  },
  {
   "cell_type": "markdown",
   "id": "152a4eb3",
   "metadata": {},
   "source": [
    "This project successfully demonstrates how food donation data can be managed and analyzed using a SQL-powered backend with an interactive Streamlit application.\n",
    "\n",
    "* A structured SQLite database was designed to store providers, receivers, food listings, and claims.\n",
    "\n",
    "* Data was cleaned, standardized, and queried to generate 15+ analytical insights, including provider contributions, high-demand cities, food type trends, and claim patterns.\n",
    "\n",
    "* A user-friendly Streamlit app was built to:\n",
    "\n",
    "    - Filter food donations by city, provider, and food type.\n",
    "\n",
    "    - Access contact information for providers and receivers.\n",
    "\n",
    "    - Perform CRUD operations (add, update, delete food listings).\n",
    "\n",
    "    - Visualize trends and insights through auto-generated charts from saved SQL query outputs.\n",
    "\n",
    "The project not only improves data accessibility but also provides decision-making insights to optimize food distribution, reduce wastage, and match supply with demand."
   ]
  }
 ],
 "metadata": {
  "kernelspec": {
   "display_name": "Python 3",
   "language": "python",
   "name": "python3"
  },
  "language_info": {
   "codemirror_mode": {
    "name": "ipython",
    "version": 3
   },
   "file_extension": ".py",
   "mimetype": "text/x-python",
   "name": "python",
   "nbconvert_exporter": "python",
   "pygments_lexer": "ipython3",
   "version": "3.10.9"
  }
 },
 "nbformat": 4,
 "nbformat_minor": 5
}
